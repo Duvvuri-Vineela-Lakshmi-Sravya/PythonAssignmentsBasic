{
 "cells": [
  {
   "cell_type": "markdown",
   "metadata": {},
   "source": [
    "# ASSIGNMENT 1 - ANSWERS"
   ]
  },
  {
   "cell_type": "markdown",
   "metadata": {},
   "source": [
    "1. The following are operators:\n",
    "    *, -, /, + --> multiplication, subtraction, division and addition.\n",
    "   The following are values/operands.\n",
    "    'hello', -87.8, 6"
   ]
  },
  {
   "cell_type": "markdown",
   "metadata": {},
   "source": [
    "2. Difference between string and variable:\n",
    "     Variable is the name of the memory location where any data can be stored.\n",
    "     String is a data which holds the sequence of characters.\n",
    "     Ex==> spam=10 --> here spam is a variable which holds the an integer data with the value 10.\n",
    "     'spam' --> it is the string data with sequence of characters. A string data can be represented with single or double\n",
    "                quotes."
   ]
  },
  {
   "cell_type": "markdown",
   "metadata": {},
   "source": [
    "3. Different data forms:\n",
    "   a. int()   --> represents integer values\n",
    "   b. float() --> represents real numbers with decimals.\n",
    "   c. complex()  --> consists of real and imaginary ex- 8+9j\n",
    "   d. str()  --> stores a character or sequence of characters"
   ]
  },
  {
   "cell_type": "markdown",
   "metadata": {},
   "source": [
    "4. An expression is a combination of operators and operands that results into a value. \n",
    "   It can assigned to a variable with the help of equal to symbol.\n",
    "   ex==> var1 + var2, result = a + b * d - e / c * (f and a)\n",
    "   Functional expression is a pre-defined expression. \n",
    "   Ex==> res = float(8)\n",
    "   float() is a predefined function and converts the value into float type.\n"
   ]
  },
  {
   "cell_type": "markdown",
   "metadata": {},
   "source": [
    "5. An expression is a combination of operators and operands that results into a value. \n",
    "    ex==> c=a+b.\n",
    "   When a variable is just defined without assigning any value or without any operators, it is called declaration.\n",
    "   ex==> sample1\n",
    "   sample1 can hold any datatype value."
   ]
  },
  {
   "cell_type": "markdown",
   "metadata": {},
   "source": [
    "6. bacon = 22\n",
    "   Implies that the variable bacon is declared with 22 value.\n",
    "   bacon + 1 \n",
    "   Implies that the value of bacon is added with 1.\n",
    "   Since the value of bacon is not getting updated or the expression is not assigned to any variable; \n",
    "   value of bacon remains the same == 22"
   ]
  },
  {
   "cell_type": "code",
   "execution_count": 1,
   "metadata": {},
   "outputs": [
    {
     "data": {
      "text/plain": [
       "22"
      ]
     },
     "execution_count": 1,
     "metadata": {},
     "output_type": "execute_result"
    }
   ],
   "source": [
    "bacon = 22\n",
    "bacon + 1\n",
    "bacon"
   ]
  },
  {
   "cell_type": "markdown",
   "metadata": {},
   "source": [
    "7. If the operands are string and the operator is '+',\n",
    "   It will perform string concatenation\n",
    "   so, 'spam' + 'spamspam' = 'spamspamspam'\n",
    "   \n",
    "   If one of the operand is string and the other is int and the operator is '*',\n",
    "   It will replcate the string value with int number of time.\n",
    "   so, 'spam' * 3 = 'spamspamspam'"
   ]
  },
  {
   "cell_type": "code",
   "execution_count": 2,
   "metadata": {},
   "outputs": [
    {
     "name": "stdout",
     "output_type": "stream",
     "text": [
      "spamspamspam\n",
      "spamspamspam\n"
     ]
    }
   ],
   "source": [
    "str1 = 'spam' + 'spamspam'\n",
    "print(str1)\n",
    "str2 = 'spam' * 3\n",
    "print(str2)"
   ]
  },
  {
   "cell_type": "markdown",
   "metadata": {},
   "source": [
    "8. eggs is a valid variable name as it follows the rules of variable declaration\n",
    "   A variable should start with letters or underscore (_) but not with the digit. so, 100 is an invalid variable declaration."
   ]
  },
  {
   "cell_type": "markdown",
   "metadata": {},
   "source": [
    "9. to convert a value to an integer int() is used.\n",
    "   to convert a value into floating/real number float() is used.\n",
    "   to convert a value into string str() is used."
   ]
  },
  {
   "cell_type": "code",
   "execution_count": 4,
   "metadata": {},
   "outputs": [
    {
     "name": "stdout",
     "output_type": "stream",
     "text": [
      "Enter a -- 10\n",
      "10 <class 'int'>\n",
      "10.0 <class 'float'>\n",
      "testing string data type <class 'str'>\n"
     ]
    }
   ],
   "source": [
    "a=int(input(\"Enter a -- \"))\n",
    "print(a,type(a))\n",
    "b=float(a)\n",
    "print(b,type(b))\n",
    "c='testing string data type'\n",
    "print(c,type(c))"
   ]
  },
  {
   "cell_type": "markdown",
   "metadata": {},
   "source": [
    "10. Addition operation requires homogenous type of data.\n",
    "    In the below expression:\n",
    "    'I have eaten' + 99 + 'burritos'.\n",
    "    99 is considered as an int. Therefore, we need to convert 99 into a string value to concatenate."
   ]
  },
  {
   "cell_type": "code",
   "execution_count": 6,
   "metadata": {},
   "outputs": [
    {
     "name": "stdout",
     "output_type": "stream",
     "text": [
      "I have eaten 99 burritos.\n"
     ]
    }
   ],
   "source": [
    "print('I have eaten '+str(99)+' burritos.')"
   ]
  }
 ],
 "metadata": {
  "kernelspec": {
   "display_name": "Python 3",
   "language": "python",
   "name": "python3"
  },
  "language_info": {
   "codemirror_mode": {
    "name": "ipython",
    "version": 3
   },
   "file_extension": ".py",
   "mimetype": "text/x-python",
   "name": "python",
   "nbconvert_exporter": "python",
   "pygments_lexer": "ipython3",
   "version": "3.8.5"
  }
 },
 "nbformat": 4,
 "nbformat_minor": 4
}
